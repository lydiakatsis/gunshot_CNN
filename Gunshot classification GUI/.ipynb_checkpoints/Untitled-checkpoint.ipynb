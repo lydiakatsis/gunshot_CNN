{
 "cells": [
  {
   "cell_type": "code",
   "execution_count": 6,
   "id": "1c849028-0215-416e-8ec0-df9a07c7051b",
   "metadata": {
    "tags": []
   },
   "outputs": [
    {
     "name": "stdout",
     "output_type": "stream",
     "text": [
      "Enabling notebook extension jupyter-js-widgets/extension...\n",
      "      - Validating: \u001b[32mOK\u001b[0m\n"
     ]
    }
   ],
   "source": [
    "\n",
    "!jupyter nbextension enable --py --sys-prefix widgetsnbextension"
   ]
  },
  {
   "cell_type": "code",
   "execution_count": 4,
   "id": "cb55760b-a942-44fa-acc2-e11f8defc402",
   "metadata": {},
   "outputs": [],
   "source": [
    "from IPython.display import display\n",
    "from ipywidgets import widgets, interactive"
   ]
  },
  {
   "cell_type": "code",
   "execution_count": 1,
   "id": "2e09e22e-8f0a-4e57-87f6-e390e15b016d",
   "metadata": {},
   "outputs": [
    {
     "data": {
      "application/vnd.jupyter.widget-view+json": {
       "model_id": "bc7077a7d616425ba42396e79cf1e730",
       "version_major": 2,
       "version_minor": 0
      },
      "text/plain": [
       "1st loop:   0%|          | 0/3 [00:00<?, ?it/s]"
      ]
     },
     "metadata": {},
     "output_type": "display_data"
    },
    {
     "data": {
      "application/vnd.jupyter.widget-view+json": {
       "model_id": "f542656c094b4962a77abb7a4c06a0b0",
       "version_major": 2,
       "version_minor": 0
      },
      "text/plain": [
       "2nd loop:   0%|          | 0/100 [00:00<?, ?it/s]"
      ]
     },
     "metadata": {},
     "output_type": "display_data"
    },
    {
     "data": {
      "application/vnd.jupyter.widget-view+json": {
       "model_id": "5eca8907b9ad40a5bc84baf767fca102",
       "version_major": 2,
       "version_minor": 0
      },
      "text/plain": [
       "2nd loop:   0%|          | 0/100 [00:00<?, ?it/s]"
      ]
     },
     "metadata": {},
     "output_type": "display_data"
    },
    {
     "data": {
      "application/vnd.jupyter.widget-view+json": {
       "model_id": "77b7f97351a54934b973c1e234e25be6",
       "version_major": 2,
       "version_minor": 0
      },
      "text/plain": [
       "2nd loop:   0%|          | 0/100 [00:00<?, ?it/s]"
      ]
     },
     "metadata": {},
     "output_type": "display_data"
    }
   ],
   "source": [
    "from tqdm.notebook import trange, tqdm\n",
    "from time import sleep\n",
    "\n",
    "for i in trange(3, desc='1st loop'):\n",
    "    for j in tqdm(range(100), desc='2nd loop'):\n",
    "        sleep(0.01)"
   ]
  },
  {
   "cell_type": "code",
   "execution_count": 2,
   "id": "bd501227-e531-4482-b3ae-ed8f85e421e9",
   "metadata": {},
   "outputs": [
    {
     "name": "stdout",
     "output_type": "stream",
     "text": [
      "Installing /Users/lydia/Library/jupyterlab-desktop/jlab_server/lib/python3.8/site-packages/widgetsnbextension/static -> jupyter-js-widgets\n",
      "Making directory: /Users/lydia/Library/Jupyter/nbextensions/jupyter-js-widgets/\n",
      "Copying: /Users/lydia/Library/jupyterlab-desktop/jlab_server/lib/python3.8/site-packages/widgetsnbextension/static/extension.js.map -> /Users/lydia/Library/Jupyter/nbextensions/jupyter-js-widgets/extension.js.map\n",
      "Copying: /Users/lydia/Library/jupyterlab-desktop/jlab_server/lib/python3.8/site-packages/widgetsnbextension/static/extension.js -> /Users/lydia/Library/Jupyter/nbextensions/jupyter-js-widgets/extension.js\n",
      "- Validating: \u001b[32mOK\u001b[0m\n",
      "\n",
      "    To initialize this nbextension in the browser every time the notebook (or other app) loads:\n",
      "    \n",
      "          jupyter nbextension enable widgetsnbextension --user --py\n",
      "    \n"
     ]
    }
   ],
   "source": [
    "!jupyter nbextension install --user --py widgetsnbextension\n"
   ]
  },
  {
   "cell_type": "code",
   "execution_count": 2,
   "id": "02227f9b-8285-4742-a0b4-5d332f697200",
   "metadata": {},
   "outputs": [
    {
     "name": "stdout",
     "output_type": "stream",
     "text": [
      "Enabling notebook extension jupyter-js-widgets/extension...\n",
      "      - Validating: \u001b[32mOK\u001b[0m\n",
      "Searching ['/Users/lydia/Documents/GitHub/GUI-branch/Gunshot classification GUI', '/Users/lydia/Library/jupyterlab-desktop', '/Users/lydia/.local/etc/jupyter', '/Users/lydia/Library/jupyterlab-desktop/jlab_server/etc/jupyter', '/usr/local/etc/jupyter', '/etc/jupyter'] for config files\n",
      "Looking for jupyter_config in /etc/jupyter\n",
      "Looking for jupyter_config in /usr/local/etc/jupyter\n",
      "Looking for jupyter_config in /Users/lydia/Library/jupyterlab-desktop/jlab_server/etc/jupyter\n",
      "Looking for jupyter_config in /Users/lydia/.local/etc/jupyter\n",
      "Looking for jupyter_config in /Users/lydia/Library/jupyterlab-desktop\n",
      "Looking for jupyter_config in /Users/lydia/Documents/GitHub/GUI-branch/Gunshot classification GUI\n",
      "Looking for lab_config in /etc/jupyter\n",
      "Looking for lab_config in /usr/local/etc/jupyter\n",
      "Looking for lab_config in /Users/lydia/Library/jupyterlab-desktop/jlab_server/etc/jupyter\n",
      "Looking for lab_config in /Users/lydia/.local/etc/jupyter\n",
      "Looking for lab_config in /Users/lydia/Library/jupyterlab-desktop\n",
      "Looking for lab_config in /Users/lydia/Documents/GitHub/GUI-branch/Gunshot classification GUI\n",
      "Node v15.1.0\n",
      "\n",
      "Yarn configuration loaded.\n",
      "> /usr/local/bin/npm pack @jupyter-widgets/jupyterlab-manager@2.0\n",
      "|npm notice \n",
      "npm notice 📦  @jupyter-widgets/jupyterlab-manager@2.0.0\n",
      "npm notice === Tarball Contents === \n",
      "npm notice 1.5kB  LICENSE             \n",
      "npm notice 2.1kB  README.md           \n",
      "npm notice 277B   lib/index.d.ts      \n",
      "npm notice 380B   lib/index.js        \n",
      "npm notice 6.0kB  lib/manager.d.ts    \n",
      "npm notice 15.3kB lib/manager.js      \n",
      "npm notice 1.9kB  lib/output.d.ts     \n",
      "npm notice 5.3kB  lib/output.js       \n",
      "npm notice 828B   lib/plugin.d.ts     \n",
      "npm notice 7.8kB  lib/plugin.js       \n",
      "npm notice 960B   lib/renderer.d.ts   \n",
      "npm notice 3.3kB  lib/renderer.js     \n",
      "npm notice 216B   lib/semvercache.d.ts\n",
      "npm notice 862B   lib/semvercache.js  \n",
      "npm notice 2.3kB  package.json        \n",
      "npm notice 375B   schema/plugin.json  \n",
      "npm notice === Tarball Details === \n",
      "npm notice name:          @jupyter-widgets/jupyterlab-manager          \n",
      "npm notice version:       2.0.0                                        \n",
      "npm notice filename:      @jupyter-widgets/jupyterlab-manager-2.0.0.tgz\n",
      "npm notice package size:  13.3 kB                                      \n",
      "npm notice unpacked size: 49.4 kB                                      \n",
      "npm notice shasum:        05ab402833df07aac1ec2c549a1d748b3c303185     \n",
      "npm notice integrity:     sha512-i+qtbEe//W9Ru[...]Fu0KbkxM9aQXQ==     \n",
      "npm notice total files:   16                                           \n",
      "npm notice \n",
      "jupyter-widgets-jupyterlab-manager-2.0.0.tgz\n",
      "\n",
      "\bTraceback (most recent call last):\n",
      "\n",
      "  File \"/Users/lydia/Library/jupyterlab-desktop/jlab_server/lib/python3.8/site-packages/jupyterlab/debuglog.py\", line 47, in debug_logging\n",
      "    yield\n",
      "\n",
      "  File \"/Users/lydia/Library/jupyterlab-desktop/jlab_server/lib/python3.8/site-packages/jupyterlab/labextensions.py\", line 144, in start\n",
      "    ans = self.run_task()\n",
      "\n",
      "  File \"/Users/lydia/Library/jupyterlab-desktop/jlab_server/lib/python3.8/site-packages/jupyterlab/labextensions.py\", line 191, in run_task\n",
      "    [\n",
      "\n",
      "  File \"/Users/lydia/Library/jupyterlab-desktop/jlab_server/lib/python3.8/site-packages/jupyterlab/labextensions.py\", line 192, in <listcomp>\n",
      "    install_extension(\n",
      "\n",
      "  File \"/Users/lydia/Library/jupyterlab-desktop/jlab_server/lib/python3.8/site-packages/jupyterlab/commands.py\", line 429, in install_extension\n",
      "    return handler.install_extension(extension, pin=pin)\n",
      "\n",
      "  File \"/Users/lydia/Library/jupyterlab-desktop/jlab_server/lib/python3.8/site-packages/jupyterlab/commands.py\", line 654, in install_extension\n",
      "    info = self._install_extension(extension, tempdir, pin=pin)\n",
      "\n",
      "  File \"/Users/lydia/Library/jupyterlab-desktop/jlab_server/lib/python3.8/site-packages/jupyterlab/commands.py\", line 1766, in _install_extension\n",
      "    raise ValueError(msg)\n",
      "\n",
      "ValueError: \n",
      "\"@jupyter-widgets/jupyterlab-manager@2.0.0\" is not compatible with the current JupyterLab\n",
      "Conflicting Dependencies:\n",
      "JupyterLab                        Extension      Package\n",
      ">=3.4.5 <3.5.0                    >=2.0.0 <3.0.0 @jupyterlab/application\n",
      ">=3.4.5 <3.5.0                    >=2.0.0 <3.0.0 @jupyterlab/logconsole\n",
      ">=3.4.5 <3.5.0                    >=2.0.0 <3.0.0 @jupyterlab/mainmenu\n",
      ">=3.4.5 <3.5.0                    >=2.0.0 <3.0.0 @jupyterlab/notebook\n",
      ">=3.4.5 <3.5.0                    >=2.0.0 <3.0.0 @jupyterlab/rendermime\n",
      ">=3.4.5 <3.5.0                    >=2.0.0 <3.0.0 @jupyterlab/rendermime-interfaces\n",
      ">=6.4.5 <6.5.0                    >=5.0.0 <6.0.0 @jupyterlab/services\n",
      ">=3.4.5 <3.5.0                    >=2.0.0 <3.0.0 @jupyterlab/settingregistry\n",
      "\n",
      "\n",
      "An error occurred.\n",
      "ValueError: \n",
      "\"@jupyter-widgets/jupyterlab-manager@2.0.0\" is not compatible with the current JupyterLab\n",
      "Conflicting Dependencies:\n",
      "JupyterLab                        Extension      Package\n",
      ">=3.4.5 <3.5.0                    >=2.0.0 <3.0.0 @jupyterlab/application\n",
      ">=3.4.5 <3.5.0                    >=2.0.0 <3.0.0 @jupyterlab/logconsole\n",
      ">=3.4.5 <3.5.0                    >=2.0.0 <3.0.0 @jupyterlab/mainmenu\n",
      ">=3.4.5 <3.5.0                    >=2.0.0 <3.0.0 @jupyterlab/notebook\n",
      ">=3.4.5 <3.5.0                    >=2.0.0 <3.0.0 @jupyterlab/rendermime\n",
      ">=3.4.5 <3.5.0                    >=2.0.0 <3.0.0 @jupyterlab/rendermime-interfaces\n",
      ">=6.4.5 <6.5.0                    >=5.0.0 <6.0.0 @jupyterlab/services\n",
      ">=3.4.5 <3.5.0                    >=2.0.0 <3.0.0 @jupyterlab/settingregistry\n",
      "See the log file for details:  /var/folders/dv/blcyp1vn61j_vcqyrdvbs54h0000gn/T/jupyterlab-debug-e_l2ghgz.log\n",
      "Exiting application: lab\n"
     ]
    }
   ],
   "source": [
    "!jupyter nbextension enable --py widgetsnbextension --sys-prefix\n",
    "!jupyter labextension install --debug @jupyter-widgets/jupyterlab-manager@2.0"
   ]
  }
 ],
 "metadata": {
  "kernelspec": {
   "display_name": "opso0.7",
   "language": "python",
   "name": "opso0.7"
  },
  "language_info": {
   "codemirror_mode": {
    "name": "ipython",
    "version": 3
   },
   "file_extension": ".py",
   "mimetype": "text/x-python",
   "name": "python",
   "nbconvert_exporter": "python",
   "pygments_lexer": "ipython3",
   "version": "3.7.13"
  }
 },
 "nbformat": 4,
 "nbformat_minor": 5
}
