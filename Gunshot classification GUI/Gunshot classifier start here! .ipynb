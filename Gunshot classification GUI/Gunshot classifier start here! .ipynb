{
 "cells": [
  {
   "cell_type": "markdown",
   "id": "b9869c42-a972-428e-98a2-f4d667ab544d",
   "metadata": {
    "tags": []
   },
   "source": [
    "# Welcome to the Gunshot Classification program! #\n",
    "\n",
    "*Please don't be put off by the code below -- all you need to do to classify your sound files is follow the 3 simple steps below and press **Command + Enter** when prompted!*\n",
    "\n",
    "If you have any questions, please email me at: l.k.d.katsis@soton.ac.uk\\\n",
    "The paper these methods are based on is found here: https://www.sciencedirect.com/science/article/pii/S1470160X22006008 \n"
   ]
  },
  {
   "cell_type": "markdown",
   "id": "638c04be-0665-4a6f-ae0d-958bdf3c4ab6",
   "metadata": {},
   "source": [
    "# Instructions #\n",
    "**If this is the first time you have ever opened this program on your computer, go to Step 1. If you have opened and used it before, go straight to Step 2.**"
   ]
  },
  {
   "cell_type": "markdown",
   "id": "6b6bcbe2-53c5-4fb5-996f-667ed46c0cf7",
   "metadata": {},
   "source": [
    "**1) Step 1: Only do this the first time you ever open this file!** \n",
    "\n",
    "Click on the cell below (with code in) and click **Run** (the triangular arrow button at the top of this screen)\n",
    "\n",
    "*This step installs some packages needed to run the program.*"
   ]
  },
  {
   "cell_type": "code",
   "execution_count": 2,
   "id": "2e9ee939-e6e2-4566-b056-a40eb2f39145",
   "metadata": {
    "collapsed": true,
    "jupyter": {
     "outputs_hidden": true
    },
    "tags": []
   },
   "outputs": [
    {
     "name": "stdout",
     "output_type": "stream",
     "text": [
      "Requirement already satisfied: opensoundscape==0.7.0 in /Users/lydia/opt/anaconda3/envs/opso0.7/lib/python3.7/site-packages (0.7.0)\n",
      "Requirement already satisfied: ipykernel>=5.2.0 in /Users/lydia/opt/anaconda3/envs/opso0.7/lib/python3.7/site-packages (from opensoundscape==0.7.0) (6.15.1)\n",
      "Requirement already satisfied: docopt>=0.6.2 in /Users/lydia/opt/anaconda3/envs/opso0.7/lib/python3.7/site-packages (from opensoundscape==0.7.0) (0.6.2)\n",
      "Requirement already satisfied: librosa>=0.7.0 in /Users/lydia/opt/anaconda3/envs/opso0.7/lib/python3.7/site-packages (from opensoundscape==0.7.0) (0.9.2)\n",
      "Requirement already satisfied: numba>=0.48.0 in /Users/lydia/opt/anaconda3/envs/opso0.7/lib/python3.7/site-packages (from opensoundscape==0.7.0) (0.55.2)\n",
      "Requirement already satisfied: scikit-image>=0.17.2 in /Users/lydia/opt/anaconda3/envs/opso0.7/lib/python3.7/site-packages (from opensoundscape==0.7.0) (0.19.3)\n",
      "Requirement already satisfied: scikit-learn>=0.24.2 in /Users/lydia/opt/anaconda3/envs/opso0.7/lib/python3.7/site-packages (from opensoundscape==0.7.0) (1.0.2)\n",
      "Requirement already satisfied: ipython>=7.10 in /Users/lydia/opt/anaconda3/envs/opso0.7/lib/python3.7/site-packages (from opensoundscape==0.7.0) (7.34.0)\n",
      "Requirement already satisfied: pandas>=1.3 in /Users/lydia/opt/anaconda3/envs/opso0.7/lib/python3.7/site-packages (from opensoundscape==0.7.0) (1.3.5)\n",
      "Requirement already satisfied: pywavelets>=1.2.0 in /Users/lydia/opt/anaconda3/envs/opso0.7/lib/python3.7/site-packages (from opensoundscape==0.7.0) (1.3.0)\n",
      "Requirement already satisfied: Jinja2<3.0 in /Users/lydia/opt/anaconda3/envs/opso0.7/lib/python3.7/site-packages (from opensoundscape==0.7.0) (2.11.3)\n",
      "Requirement already satisfied: matplotlib>=3.2.1 in /Users/lydia/opt/anaconda3/envs/opso0.7/lib/python3.7/site-packages (from opensoundscape==0.7.0) (3.5.2)\n",
      "Requirement already satisfied: torch>=1.8.1 in /Users/lydia/opt/anaconda3/envs/opso0.7/lib/python3.7/site-packages (from opensoundscape==0.7.0) (1.12.0)\n",
      "Requirement already satisfied: ray>=0.8.5 in /Users/lydia/opt/anaconda3/envs/opso0.7/lib/python3.7/site-packages (from opensoundscape==0.7.0) (1.13.0)\n",
      "Requirement already satisfied: schema>=0.7.2 in /Users/lydia/opt/anaconda3/envs/opso0.7/lib/python3.7/site-packages (from opensoundscape==0.7.0) (0.7.5)\n",
      "Requirement already satisfied: jupyterlab>=2.1.4 in /Users/lydia/opt/anaconda3/envs/opso0.7/lib/python3.7/site-packages (from opensoundscape==0.7.0) (3.4.3)\n",
      "Requirement already satisfied: tinytag>=1.6.0 in /Users/lydia/opt/anaconda3/envs/opso0.7/lib/python3.7/site-packages (from opensoundscape==0.7.0) (1.8.1)\n",
      "Requirement already satisfied: torchvision>=0.9.1 in /Users/lydia/opt/anaconda3/envs/opso0.7/lib/python3.7/site-packages (from opensoundscape==0.7.0) (0.13.0)\n",
      "Requirement already satisfied: Deprecated<2.0.0,>=1.2.13 in /Users/lydia/opt/anaconda3/envs/opso0.7/lib/python3.7/site-packages (from opensoundscape==0.7.0) (1.2.13)\n",
      "Requirement already satisfied: wrapt<2,>=1.10 in /Users/lydia/opt/anaconda3/envs/opso0.7/lib/python3.7/site-packages (from Deprecated<2.0.0,>=1.2.13->opensoundscape==0.7.0) (1.14.1)\n",
      "Requirement already satisfied: debugpy>=1.0 in /Users/lydia/opt/anaconda3/envs/opso0.7/lib/python3.7/site-packages (from ipykernel>=5.2.0->opensoundscape==0.7.0) (1.6.2)\n",
      "Requirement already satisfied: packaging in /Users/lydia/opt/anaconda3/envs/opso0.7/lib/python3.7/site-packages (from ipykernel>=5.2.0->opensoundscape==0.7.0) (21.3)\n",
      "Requirement already satisfied: matplotlib-inline>=0.1 in /Users/lydia/opt/anaconda3/envs/opso0.7/lib/python3.7/site-packages (from ipykernel>=5.2.0->opensoundscape==0.7.0) (0.1.3)\n",
      "Requirement already satisfied: psutil in /Users/lydia/opt/anaconda3/envs/opso0.7/lib/python3.7/site-packages (from ipykernel>=5.2.0->opensoundscape==0.7.0) (5.9.1)\n",
      "Requirement already satisfied: appnope in /Users/lydia/opt/anaconda3/envs/opso0.7/lib/python3.7/site-packages (from ipykernel>=5.2.0->opensoundscape==0.7.0) (0.1.3)\n",
      "Requirement already satisfied: jupyter-client>=6.1.12 in /Users/lydia/opt/anaconda3/envs/opso0.7/lib/python3.7/site-packages (from ipykernel>=5.2.0->opensoundscape==0.7.0) (7.3.4)\n",
      "Requirement already satisfied: pyzmq>=17 in /Users/lydia/opt/anaconda3/envs/opso0.7/lib/python3.7/site-packages (from ipykernel>=5.2.0->opensoundscape==0.7.0) (23.2.0)\n",
      "Requirement already satisfied: tornado>=6.1 in /Users/lydia/opt/anaconda3/envs/opso0.7/lib/python3.7/site-packages (from ipykernel>=5.2.0->opensoundscape==0.7.0) (6.2)\n",
      "Requirement already satisfied: traitlets>=5.1.0 in /Users/lydia/opt/anaconda3/envs/opso0.7/lib/python3.7/site-packages (from ipykernel>=5.2.0->opensoundscape==0.7.0) (5.3.0)\n",
      "Requirement already satisfied: nest-asyncio in /Users/lydia/opt/anaconda3/envs/opso0.7/lib/python3.7/site-packages (from ipykernel>=5.2.0->opensoundscape==0.7.0) (1.5.5)\n",
      "Requirement already satisfied: pygments in /Users/lydia/opt/anaconda3/envs/opso0.7/lib/python3.7/site-packages (from ipython>=7.10->opensoundscape==0.7.0) (2.12.0)\n",
      "Requirement already satisfied: jedi>=0.16 in /Users/lydia/opt/anaconda3/envs/opso0.7/lib/python3.7/site-packages (from ipython>=7.10->opensoundscape==0.7.0) (0.18.1)\n",
      "Requirement already satisfied: prompt-toolkit!=3.0.0,!=3.0.1,<3.1.0,>=2.0.0 in /Users/lydia/opt/anaconda3/envs/opso0.7/lib/python3.7/site-packages (from ipython>=7.10->opensoundscape==0.7.0) (3.0.30)\n",
      "Requirement already satisfied: backcall in /Users/lydia/opt/anaconda3/envs/opso0.7/lib/python3.7/site-packages (from ipython>=7.10->opensoundscape==0.7.0) (0.2.0)\n",
      "Requirement already satisfied: pexpect>4.3 in /Users/lydia/opt/anaconda3/envs/opso0.7/lib/python3.7/site-packages (from ipython>=7.10->opensoundscape==0.7.0) (4.8.0)\n",
      "Requirement already satisfied: pickleshare in /Users/lydia/opt/anaconda3/envs/opso0.7/lib/python3.7/site-packages (from ipython>=7.10->opensoundscape==0.7.0) (0.7.5)\n",
      "Requirement already satisfied: decorator in /Users/lydia/opt/anaconda3/envs/opso0.7/lib/python3.7/site-packages (from ipython>=7.10->opensoundscape==0.7.0) (5.1.1)\n",
      "Requirement already satisfied: setuptools>=18.5 in /Users/lydia/opt/anaconda3/envs/opso0.7/lib/python3.7/site-packages (from ipython>=7.10->opensoundscape==0.7.0) (61.2.0)\n",
      "Requirement already satisfied: MarkupSafe>=0.23 in /Users/lydia/opt/anaconda3/envs/opso0.7/lib/python3.7/site-packages (from Jinja2<3.0->opensoundscape==0.7.0) (2.1.1)\n",
      "Requirement already satisfied: jupyter-core in /Users/lydia/opt/anaconda3/envs/opso0.7/lib/python3.7/site-packages (from jupyterlab>=2.1.4->opensoundscape==0.7.0) (4.11.1)\n",
      "Requirement already satisfied: jupyterlab-server~=2.10 in /Users/lydia/opt/anaconda3/envs/opso0.7/lib/python3.7/site-packages (from jupyterlab>=2.1.4->opensoundscape==0.7.0) (2.10.3)\n",
      "Requirement already satisfied: jupyter-server~=1.16 in /Users/lydia/opt/anaconda3/envs/opso0.7/lib/python3.7/site-packages (from jupyterlab>=2.1.4->opensoundscape==0.7.0) (1.18.1)\n",
      "Requirement already satisfied: nbclassic~=0.2 in /Users/lydia/opt/anaconda3/envs/opso0.7/lib/python3.7/site-packages (from jupyterlab>=2.1.4->opensoundscape==0.7.0) (0.4.3)\n",
      "Requirement already satisfied: numpy>=1.17.0 in /Users/lydia/opt/anaconda3/envs/opso0.7/lib/python3.7/site-packages (from librosa>=0.7.0->opensoundscape==0.7.0) (1.21.6)\n",
      "Requirement already satisfied: joblib>=0.14 in /Users/lydia/opt/anaconda3/envs/opso0.7/lib/python3.7/site-packages (from librosa>=0.7.0->opensoundscape==0.7.0) (1.1.0)\n",
      "Requirement already satisfied: resampy>=0.2.2 in /Users/lydia/opt/anaconda3/envs/opso0.7/lib/python3.7/site-packages (from librosa>=0.7.0->opensoundscape==0.7.0) (0.3.1)\n",
      "Requirement already satisfied: audioread>=2.1.9 in /Users/lydia/opt/anaconda3/envs/opso0.7/lib/python3.7/site-packages (from librosa>=0.7.0->opensoundscape==0.7.0) (2.1.9)\n",
      "Requirement already satisfied: soundfile>=0.10.2 in /Users/lydia/opt/anaconda3/envs/opso0.7/lib/python3.7/site-packages (from librosa>=0.7.0->opensoundscape==0.7.0) (0.10.3.post1)\n",
      "Requirement already satisfied: scipy>=1.2.0 in /Users/lydia/opt/anaconda3/envs/opso0.7/lib/python3.7/site-packages (from librosa>=0.7.0->opensoundscape==0.7.0) (1.7.3)\n",
      "Requirement already satisfied: pooch>=1.0 in /Users/lydia/opt/anaconda3/envs/opso0.7/lib/python3.7/site-packages (from librosa>=0.7.0->opensoundscape==0.7.0) (1.6.0)\n",
      "Requirement already satisfied: pyparsing>=2.2.1 in /Users/lydia/opt/anaconda3/envs/opso0.7/lib/python3.7/site-packages (from matplotlib>=3.2.1->opensoundscape==0.7.0) (3.0.9)\n",
      "Requirement already satisfied: fonttools>=4.22.0 in /Users/lydia/opt/anaconda3/envs/opso0.7/lib/python3.7/site-packages (from matplotlib>=3.2.1->opensoundscape==0.7.0) (4.34.4)\n",
      "Requirement already satisfied: pillow>=6.2.0 in /Users/lydia/opt/anaconda3/envs/opso0.7/lib/python3.7/site-packages (from matplotlib>=3.2.1->opensoundscape==0.7.0) (9.2.0)\n",
      "Requirement already satisfied: python-dateutil>=2.7 in /Users/lydia/opt/anaconda3/envs/opso0.7/lib/python3.7/site-packages (from matplotlib>=3.2.1->opensoundscape==0.7.0) (2.8.2)\n",
      "Requirement already satisfied: cycler>=0.10 in /Users/lydia/opt/anaconda3/envs/opso0.7/lib/python3.7/site-packages (from matplotlib>=3.2.1->opensoundscape==0.7.0) (0.11.0)\n",
      "Requirement already satisfied: kiwisolver>=1.0.1 in /Users/lydia/opt/anaconda3/envs/opso0.7/lib/python3.7/site-packages (from matplotlib>=3.2.1->opensoundscape==0.7.0) (1.4.4)\n",
      "Requirement already satisfied: llvmlite<0.39,>=0.38.0rc1 in /Users/lydia/opt/anaconda3/envs/opso0.7/lib/python3.7/site-packages (from numba>=0.48.0->opensoundscape==0.7.0) (0.38.1)\n",
      "Requirement already satisfied: pytz>=2017.3 in /Users/lydia/opt/anaconda3/envs/opso0.7/lib/python3.7/site-packages (from pandas>=1.3->opensoundscape==0.7.0) (2022.1)\n",
      "Requirement already satisfied: aiosignal in /Users/lydia/opt/anaconda3/envs/opso0.7/lib/python3.7/site-packages (from ray>=0.8.5->opensoundscape==0.7.0) (1.2.0)\n",
      "Requirement already satisfied: protobuf<4.0.0,>=3.15.3 in /Users/lydia/opt/anaconda3/envs/opso0.7/lib/python3.7/site-packages (from ray>=0.8.5->opensoundscape==0.7.0) (3.20.1)\n",
      "Requirement already satisfied: jsonschema in /Users/lydia/opt/anaconda3/envs/opso0.7/lib/python3.7/site-packages (from ray>=0.8.5->opensoundscape==0.7.0) (4.7.2)\n",
      "Requirement already satisfied: attrs in /Users/lydia/opt/anaconda3/envs/opso0.7/lib/python3.7/site-packages (from ray>=0.8.5->opensoundscape==0.7.0) (21.4.0)\n",
      "Requirement already satisfied: grpcio<=1.43.0,>=1.28.1 in /Users/lydia/opt/anaconda3/envs/opso0.7/lib/python3.7/site-packages (from ray>=0.8.5->opensoundscape==0.7.0) (1.43.0)\n",
      "Requirement already satisfied: requests in /Users/lydia/opt/anaconda3/envs/opso0.7/lib/python3.7/site-packages (from ray>=0.8.5->opensoundscape==0.7.0) (2.28.1)\n",
      "Requirement already satisfied: msgpack<2.0.0,>=1.0.0 in /Users/lydia/opt/anaconda3/envs/opso0.7/lib/python3.7/site-packages (from ray>=0.8.5->opensoundscape==0.7.0) (1.0.4)\n",
      "Requirement already satisfied: click<=8.0.4,>=7.0 in /Users/lydia/opt/anaconda3/envs/opso0.7/lib/python3.7/site-packages (from ray>=0.8.5->opensoundscape==0.7.0) (8.0.4)\n",
      "Requirement already satisfied: filelock in /Users/lydia/opt/anaconda3/envs/opso0.7/lib/python3.7/site-packages (from ray>=0.8.5->opensoundscape==0.7.0) (3.7.1)\n",
      "Requirement already satisfied: virtualenv in /Users/lydia/opt/anaconda3/envs/opso0.7/lib/python3.7/site-packages (from ray>=0.8.5->opensoundscape==0.7.0) (20.15.1)\n",
      "Requirement already satisfied: frozenlist in /Users/lydia/opt/anaconda3/envs/opso0.7/lib/python3.7/site-packages (from ray>=0.8.5->opensoundscape==0.7.0) (1.3.0)\n",
      "Requirement already satisfied: pyyaml in /Users/lydia/opt/anaconda3/envs/opso0.7/lib/python3.7/site-packages (from ray>=0.8.5->opensoundscape==0.7.0) (6.0)\n",
      "Requirement already satisfied: contextlib2>=0.5.5 in /Users/lydia/opt/anaconda3/envs/opso0.7/lib/python3.7/site-packages (from schema>=0.7.2->opensoundscape==0.7.0) (21.6.0)\n",
      "Requirement already satisfied: imageio>=2.4.1 in /Users/lydia/opt/anaconda3/envs/opso0.7/lib/python3.7/site-packages (from scikit-image>=0.17.2->opensoundscape==0.7.0) (2.19.5)\n",
      "Requirement already satisfied: networkx>=2.2 in /Users/lydia/opt/anaconda3/envs/opso0.7/lib/python3.7/site-packages (from scikit-image>=0.17.2->opensoundscape==0.7.0) (2.6.3)\n",
      "Requirement already satisfied: tifffile>=2019.7.26 in /Users/lydia/opt/anaconda3/envs/opso0.7/lib/python3.7/site-packages (from scikit-image>=0.17.2->opensoundscape==0.7.0) (2021.11.2)\n",
      "Requirement already satisfied: threadpoolctl>=2.0.0 in /Users/lydia/opt/anaconda3/envs/opso0.7/lib/python3.7/site-packages (from scikit-learn>=0.24.2->opensoundscape==0.7.0) (3.1.0)\n",
      "Requirement already satisfied: typing-extensions in /Users/lydia/opt/anaconda3/envs/opso0.7/lib/python3.7/site-packages (from torch>=1.8.1->opensoundscape==0.7.0) (4.3.0)\n",
      "Requirement already satisfied: importlib-metadata in /Users/lydia/opt/anaconda3/envs/opso0.7/lib/python3.7/site-packages (from click<=8.0.4,>=7.0->ray>=0.8.5->opensoundscape==0.7.0) (4.12.0)\n",
      "Requirement already satisfied: six>=1.5.2 in /Users/lydia/opt/anaconda3/envs/opso0.7/lib/python3.7/site-packages (from grpcio<=1.43.0,>=1.28.1->ray>=0.8.5->opensoundscape==0.7.0) (1.16.0)\n",
      "Requirement already satisfied: parso<0.9.0,>=0.8.0 in /Users/lydia/opt/anaconda3/envs/opso0.7/lib/python3.7/site-packages (from jedi>=0.16->ipython>=7.10->opensoundscape==0.7.0) (0.8.3)\n",
      "Requirement already satisfied: entrypoints in /Users/lydia/opt/anaconda3/envs/opso0.7/lib/python3.7/site-packages (from jupyter-client>=6.1.12->ipykernel>=5.2.0->opensoundscape==0.7.0) (0.4)\n",
      "Requirement already satisfied: Send2Trash in /Users/lydia/opt/anaconda3/envs/opso0.7/lib/python3.7/site-packages (from jupyter-server~=1.16->jupyterlab>=2.1.4->opensoundscape==0.7.0) (1.8.0)\n",
      "Requirement already satisfied: terminado>=0.8.3 in /Users/lydia/opt/anaconda3/envs/opso0.7/lib/python3.7/site-packages (from jupyter-server~=1.16->jupyterlab>=2.1.4->opensoundscape==0.7.0) (0.15.0)\n",
      "Requirement already satisfied: websocket-client in /Users/lydia/opt/anaconda3/envs/opso0.7/lib/python3.7/site-packages (from jupyter-server~=1.16->jupyterlab>=2.1.4->opensoundscape==0.7.0) (1.3.3)\n",
      "Requirement already satisfied: anyio<4,>=3.1.0 in /Users/lydia/opt/anaconda3/envs/opso0.7/lib/python3.7/site-packages (from jupyter-server~=1.16->jupyterlab>=2.1.4->opensoundscape==0.7.0) (3.6.1)\n",
      "Requirement already satisfied: argon2-cffi in /Users/lydia/opt/anaconda3/envs/opso0.7/lib/python3.7/site-packages (from jupyter-server~=1.16->jupyterlab>=2.1.4->opensoundscape==0.7.0) (21.3.0)\n",
      "Requirement already satisfied: nbconvert>=6.4.4 in /Users/lydia/opt/anaconda3/envs/opso0.7/lib/python3.7/site-packages (from jupyter-server~=1.16->jupyterlab>=2.1.4->opensoundscape==0.7.0) (6.4.5)\n",
      "Requirement already satisfied: prometheus-client in /Users/lydia/opt/anaconda3/envs/opso0.7/lib/python3.7/site-packages (from jupyter-server~=1.16->jupyterlab>=2.1.4->opensoundscape==0.7.0) (0.14.1)\n",
      "Requirement already satisfied: nbformat>=5.2.0 in /Users/lydia/opt/anaconda3/envs/opso0.7/lib/python3.7/site-packages (from jupyter-server~=1.16->jupyterlab>=2.1.4->opensoundscape==0.7.0) (5.4.0)\n",
      "Requirement already satisfied: babel in /Users/lydia/opt/anaconda3/envs/opso0.7/lib/python3.7/site-packages (from jupyterlab-server~=2.10->jupyterlab>=2.1.4->opensoundscape==0.7.0) (2.10.3)\n",
      "Requirement already satisfied: json5 in /Users/lydia/opt/anaconda3/envs/opso0.7/lib/python3.7/site-packages (from jupyterlab-server~=2.10->jupyterlab>=2.1.4->opensoundscape==0.7.0) (0.9.8)\n",
      "Requirement already satisfied: pyrsistent!=0.17.0,!=0.17.1,!=0.17.2,>=0.14.0 in /Users/lydia/opt/anaconda3/envs/opso0.7/lib/python3.7/site-packages (from jsonschema->ray>=0.8.5->opensoundscape==0.7.0) (0.18.1)\n",
      "Requirement already satisfied: importlib-resources>=1.4.0 in /Users/lydia/opt/anaconda3/envs/opso0.7/lib/python3.7/site-packages (from jsonschema->ray>=0.8.5->opensoundscape==0.7.0) (5.8.0)\n",
      "Requirement already satisfied: ipython-genutils in /Users/lydia/opt/anaconda3/envs/opso0.7/lib/python3.7/site-packages (from nbclassic~=0.2->jupyterlab>=2.1.4->opensoundscape==0.7.0) (0.2.0)\n",
      "Requirement already satisfied: notebook-shim>=0.1.0 in /Users/lydia/opt/anaconda3/envs/opso0.7/lib/python3.7/site-packages (from nbclassic~=0.2->jupyterlab>=2.1.4->opensoundscape==0.7.0) (0.1.0)\n",
      "Requirement already satisfied: ptyprocess>=0.5 in /Users/lydia/opt/anaconda3/envs/opso0.7/lib/python3.7/site-packages (from pexpect>4.3->ipython>=7.10->opensoundscape==0.7.0) (0.7.0)\n",
      "Requirement already satisfied: appdirs>=1.3.0 in /Users/lydia/opt/anaconda3/envs/opso0.7/lib/python3.7/site-packages (from pooch>=1.0->librosa>=0.7.0->opensoundscape==0.7.0) (1.4.4)\n",
      "Requirement already satisfied: wcwidth in /Users/lydia/opt/anaconda3/envs/opso0.7/lib/python3.7/site-packages (from prompt-toolkit!=3.0.0,!=3.0.1,<3.1.0,>=2.0.0->ipython>=7.10->opensoundscape==0.7.0) (0.2.5)\n",
      "Requirement already satisfied: charset-normalizer<3,>=2 in /Users/lydia/opt/anaconda3/envs/opso0.7/lib/python3.7/site-packages (from requests->ray>=0.8.5->opensoundscape==0.7.0) (2.1.0)\n",
      "Requirement already satisfied: certifi>=2017.4.17 in /Users/lydia/opt/anaconda3/envs/opso0.7/lib/python3.7/site-packages (from requests->ray>=0.8.5->opensoundscape==0.7.0) (2022.6.15)\n",
      "Requirement already satisfied: idna<4,>=2.5 in /Users/lydia/opt/anaconda3/envs/opso0.7/lib/python3.7/site-packages (from requests->ray>=0.8.5->opensoundscape==0.7.0) (3.3)\n",
      "Requirement already satisfied: urllib3<1.27,>=1.21.1 in /Users/lydia/opt/anaconda3/envs/opso0.7/lib/python3.7/site-packages (from requests->ray>=0.8.5->opensoundscape==0.7.0) (1.26.10)\n",
      "Requirement already satisfied: cffi>=1.0 in /Users/lydia/opt/anaconda3/envs/opso0.7/lib/python3.7/site-packages (from soundfile>=0.10.2->librosa>=0.7.0->opensoundscape==0.7.0) (1.15.1)\n",
      "Requirement already satisfied: distlib<1,>=0.3.1 in /Users/lydia/opt/anaconda3/envs/opso0.7/lib/python3.7/site-packages (from virtualenv->ray>=0.8.5->opensoundscape==0.7.0) (0.3.5)\n",
      "Requirement already satisfied: platformdirs<3,>=2 in /Users/lydia/opt/anaconda3/envs/opso0.7/lib/python3.7/site-packages (from virtualenv->ray>=0.8.5->opensoundscape==0.7.0) (2.5.2)\n",
      "Requirement already satisfied: sniffio>=1.1 in /Users/lydia/opt/anaconda3/envs/opso0.7/lib/python3.7/site-packages (from anyio<4,>=3.1.0->jupyter-server~=1.16->jupyterlab>=2.1.4->opensoundscape==0.7.0) (1.2.0)\n",
      "Requirement already satisfied: pycparser in /Users/lydia/opt/anaconda3/envs/opso0.7/lib/python3.7/site-packages (from cffi>=1.0->soundfile>=0.10.2->librosa>=0.7.0->opensoundscape==0.7.0) (2.21)\n",
      "Requirement already satisfied: zipp>=0.5 in /Users/lydia/opt/anaconda3/envs/opso0.7/lib/python3.7/site-packages (from importlib-metadata->click<=8.0.4,>=7.0->ray>=0.8.5->opensoundscape==0.7.0) (3.8.1)\n",
      "Requirement already satisfied: pandocfilters>=1.4.1 in /Users/lydia/opt/anaconda3/envs/opso0.7/lib/python3.7/site-packages (from nbconvert>=6.4.4->jupyter-server~=1.16->jupyterlab>=2.1.4->opensoundscape==0.7.0) (1.5.0)\n",
      "Requirement already satisfied: bleach in /Users/lydia/opt/anaconda3/envs/opso0.7/lib/python3.7/site-packages (from nbconvert>=6.4.4->jupyter-server~=1.16->jupyterlab>=2.1.4->opensoundscape==0.7.0) (5.0.1)\n",
      "Requirement already satisfied: testpath in /Users/lydia/opt/anaconda3/envs/opso0.7/lib/python3.7/site-packages (from nbconvert>=6.4.4->jupyter-server~=1.16->jupyterlab>=2.1.4->opensoundscape==0.7.0) (0.6.0)\n",
      "Requirement already satisfied: mistune<2,>=0.8.1 in /Users/lydia/opt/anaconda3/envs/opso0.7/lib/python3.7/site-packages (from nbconvert>=6.4.4->jupyter-server~=1.16->jupyterlab>=2.1.4->opensoundscape==0.7.0) (0.8.4)\n",
      "Requirement already satisfied: defusedxml in /Users/lydia/opt/anaconda3/envs/opso0.7/lib/python3.7/site-packages (from nbconvert>=6.4.4->jupyter-server~=1.16->jupyterlab>=2.1.4->opensoundscape==0.7.0) (0.7.1)\n",
      "Requirement already satisfied: jupyterlab-pygments in /Users/lydia/opt/anaconda3/envs/opso0.7/lib/python3.7/site-packages (from nbconvert>=6.4.4->jupyter-server~=1.16->jupyterlab>=2.1.4->opensoundscape==0.7.0) (0.2.2)\n",
      "Requirement already satisfied: nbclient<0.6.0,>=0.5.0 in /Users/lydia/opt/anaconda3/envs/opso0.7/lib/python3.7/site-packages (from nbconvert>=6.4.4->jupyter-server~=1.16->jupyterlab>=2.1.4->opensoundscape==0.7.0) (0.5.13)\n",
      "Requirement already satisfied: beautifulsoup4 in /Users/lydia/opt/anaconda3/envs/opso0.7/lib/python3.7/site-packages (from nbconvert>=6.4.4->jupyter-server~=1.16->jupyterlab>=2.1.4->opensoundscape==0.7.0) (4.11.1)\n",
      "Requirement already satisfied: fastjsonschema in /Users/lydia/opt/anaconda3/envs/opso0.7/lib/python3.7/site-packages (from nbformat>=5.2.0->jupyter-server~=1.16->jupyterlab>=2.1.4->opensoundscape==0.7.0) (2.16.1)\n",
      "Requirement already satisfied: argon2-cffi-bindings in /Users/lydia/opt/anaconda3/envs/opso0.7/lib/python3.7/site-packages (from argon2-cffi->jupyter-server~=1.16->jupyterlab>=2.1.4->opensoundscape==0.7.0) (21.2.0)\n",
      "Requirement already satisfied: soupsieve>1.2 in /Users/lydia/opt/anaconda3/envs/opso0.7/lib/python3.7/site-packages (from beautifulsoup4->nbconvert>=6.4.4->jupyter-server~=1.16->jupyterlab>=2.1.4->opensoundscape==0.7.0) (2.3.2.post1)\n",
      "Requirement already satisfied: webencodings in /Users/lydia/opt/anaconda3/envs/opso0.7/lib/python3.7/site-packages (from bleach->nbconvert>=6.4.4->jupyter-server~=1.16->jupyterlab>=2.1.4->opensoundscape==0.7.0) (0.5.1)\n",
      "Note: you may need to restart the kernel to use updated packages.\n",
      "Requirement already satisfied: tqdm in /Users/lydia/Library/jupyterlab-desktop/jlab_server/lib/python3.8/site-packages (4.64.0)\n",
      "Requirement already satisfied: ipywidgets in /Users/lydia/Library/jupyterlab-desktop/jlab_server/lib/python3.8/site-packages (6.0.0)\n",
      "Requirement already satisfied: widgetsnbextension~=2.0.0 in /Users/lydia/Library/jupyterlab-desktop/jlab_server/lib/python3.8/site-packages (from ipywidgets) (2.0.1)\n",
      "Requirement already satisfied: traitlets>=4.3.1 in /Users/lydia/Library/jupyterlab-desktop/jlab_server/lib/python3.8/site-packages (from ipywidgets) (5.3.0)\n",
      "Requirement already satisfied: ipython>=4.0.0 in /Users/lydia/Library/jupyterlab-desktop/jlab_server/lib/python3.8/site-packages (from ipywidgets) (8.4.0)\n",
      "Requirement already satisfied: nbformat>=4.2.0 in /Users/lydia/Library/jupyterlab-desktop/jlab_server/lib/python3.8/site-packages (from ipywidgets) (5.4.0)\n",
      "Requirement already satisfied: ipykernel>=4.5.1 in /Users/lydia/Library/jupyterlab-desktop/jlab_server/lib/python3.8/site-packages (from ipywidgets) (6.15.2)\n",
      "Requirement already satisfied: appnope in /Users/lydia/Library/jupyterlab-desktop/jlab_server/lib/python3.8/site-packages (from ipykernel>=4.5.1->ipywidgets) (0.1.3)\n",
      "Requirement already satisfied: psutil in /Users/lydia/Library/jupyterlab-desktop/jlab_server/lib/python3.8/site-packages (from ipykernel>=4.5.1->ipywidgets) (5.9.1)\n",
      "Requirement already satisfied: jupyter-client>=6.1.12 in /Users/lydia/Library/jupyterlab-desktop/jlab_server/lib/python3.8/site-packages (from ipykernel>=4.5.1->ipywidgets) (7.3.5)\n",
      "Requirement already satisfied: tornado>=6.1 in /Users/lydia/Library/jupyterlab-desktop/jlab_server/lib/python3.8/site-packages (from ipykernel>=4.5.1->ipywidgets) (6.2)\n",
      "Requirement already satisfied: debugpy>=1.0 in /Users/lydia/Library/jupyterlab-desktop/jlab_server/lib/python3.8/site-packages (from ipykernel>=4.5.1->ipywidgets) (1.6.3)\n",
      "Requirement already satisfied: packaging in /Users/lydia/Library/jupyterlab-desktop/jlab_server/lib/python3.8/site-packages (from ipykernel>=4.5.1->ipywidgets) (21.3)\n",
      "Requirement already satisfied: matplotlib-inline>=0.1 in /Users/lydia/Library/jupyterlab-desktop/jlab_server/lib/python3.8/site-packages (from ipykernel>=4.5.1->ipywidgets) (0.1.6)\n",
      "Requirement already satisfied: pyzmq>=17 in /Users/lydia/Library/jupyterlab-desktop/jlab_server/lib/python3.8/site-packages (from ipykernel>=4.5.1->ipywidgets) (23.2.1)\n",
      "Requirement already satisfied: nest-asyncio in /Users/lydia/Library/jupyterlab-desktop/jlab_server/lib/python3.8/site-packages (from ipykernel>=4.5.1->ipywidgets) (1.5.5)\n",
      "Requirement already satisfied: setuptools>=18.5 in /Users/lydia/Library/jupyterlab-desktop/jlab_server/lib/python3.8/site-packages (from ipython>=4.0.0->ipywidgets) (65.3.0)\n",
      "Requirement already satisfied: stack-data in /Users/lydia/Library/jupyterlab-desktop/jlab_server/lib/python3.8/site-packages (from ipython>=4.0.0->ipywidgets) (0.5.0)\n",
      "Requirement already satisfied: prompt-toolkit!=3.0.0,!=3.0.1,<3.1.0,>=2.0.0 in /Users/lydia/Library/jupyterlab-desktop/jlab_server/lib/python3.8/site-packages (from ipython>=4.0.0->ipywidgets) (3.0.30)\n",
      "Requirement already satisfied: pickleshare in /Users/lydia/Library/jupyterlab-desktop/jlab_server/lib/python3.8/site-packages (from ipython>=4.0.0->ipywidgets) (0.7.5)\n",
      "Requirement already satisfied: backcall in /Users/lydia/Library/jupyterlab-desktop/jlab_server/lib/python3.8/site-packages (from ipython>=4.0.0->ipywidgets) (0.2.0)\n",
      "Requirement already satisfied: pexpect>4.3 in /Users/lydia/Library/jupyterlab-desktop/jlab_server/lib/python3.8/site-packages (from ipython>=4.0.0->ipywidgets) (4.8.0)\n",
      "Requirement already satisfied: pygments>=2.4.0 in /Users/lydia/Library/jupyterlab-desktop/jlab_server/lib/python3.8/site-packages (from ipython>=4.0.0->ipywidgets) (2.13.0)\n",
      "Requirement already satisfied: jedi>=0.16 in /Users/lydia/Library/jupyterlab-desktop/jlab_server/lib/python3.8/site-packages (from ipython>=4.0.0->ipywidgets) (0.18.1)\n",
      "Requirement already satisfied: decorator in /Users/lydia/Library/jupyterlab-desktop/jlab_server/lib/python3.8/site-packages (from ipython>=4.0.0->ipywidgets) (5.1.1)\n",
      "Requirement already satisfied: jupyter-core in /Users/lydia/Library/jupyterlab-desktop/jlab_server/lib/python3.8/site-packages (from nbformat>=4.2.0->ipywidgets) (4.11.1)\n",
      "Requirement already satisfied: jsonschema>=2.6 in /Users/lydia/Library/jupyterlab-desktop/jlab_server/lib/python3.8/site-packages (from nbformat>=4.2.0->ipywidgets) (4.14.0)\n",
      "Requirement already satisfied: fastjsonschema in /Users/lydia/Library/jupyterlab-desktop/jlab_server/lib/python3.8/site-packages (from nbformat>=4.2.0->ipywidgets) (2.16.1)\n",
      "Requirement already satisfied: notebook>=4.4.1 in /Users/lydia/Library/jupyterlab-desktop/jlab_server/lib/python3.8/site-packages (from widgetsnbextension~=2.0.0->ipywidgets) (6.4.12)\n",
      "Requirement already satisfied: parso<0.9.0,>=0.8.0 in /Users/lydia/Library/jupyterlab-desktop/jlab_server/lib/python3.8/site-packages (from jedi>=0.16->ipython>=4.0.0->ipywidgets) (0.8.3)\n",
      "Requirement already satisfied: pyrsistent!=0.17.0,!=0.17.1,!=0.17.2,>=0.14.0 in /Users/lydia/Library/jupyterlab-desktop/jlab_server/lib/python3.8/site-packages (from jsonschema>=2.6->nbformat>=4.2.0->ipywidgets) (0.18.1)\n",
      "Requirement already satisfied: attrs>=17.4.0 in /Users/lydia/Library/jupyterlab-desktop/jlab_server/lib/python3.8/site-packages (from jsonschema>=2.6->nbformat>=4.2.0->ipywidgets) (22.1.0)\n",
      "Requirement already satisfied: pkgutil-resolve-name>=1.3.10 in /Users/lydia/Library/jupyterlab-desktop/jlab_server/lib/python3.8/site-packages (from jsonschema>=2.6->nbformat>=4.2.0->ipywidgets) (1.3.10)\n",
      "Requirement already satisfied: importlib-resources>=1.4.0 in /Users/lydia/Library/jupyterlab-desktop/jlab_server/lib/python3.8/site-packages (from jsonschema>=2.6->nbformat>=4.2.0->ipywidgets) (5.9.0)\n",
      "Requirement already satisfied: python-dateutil>=2.8.2 in /Users/lydia/Library/jupyterlab-desktop/jlab_server/lib/python3.8/site-packages (from jupyter-client>=6.1.12->ipykernel>=4.5.1->ipywidgets) (2.8.2)\n",
      "Requirement already satisfied: entrypoints in /Users/lydia/Library/jupyterlab-desktop/jlab_server/lib/python3.8/site-packages (from jupyter-client>=6.1.12->ipykernel>=4.5.1->ipywidgets) (0.4)\n",
      "Requirement already satisfied: terminado>=0.8.3 in /Users/lydia/Library/jupyterlab-desktop/jlab_server/lib/python3.8/site-packages (from notebook>=4.4.1->widgetsnbextension~=2.0.0->ipywidgets) (0.15.0)\n",
      "Requirement already satisfied: prometheus-client in /Users/lydia/Library/jupyterlab-desktop/jlab_server/lib/python3.8/site-packages (from notebook>=4.4.1->widgetsnbextension~=2.0.0->ipywidgets) (0.14.1)\n",
      "Requirement already satisfied: jinja2 in /Users/lydia/Library/jupyterlab-desktop/jlab_server/lib/python3.8/site-packages (from notebook>=4.4.1->widgetsnbextension~=2.0.0->ipywidgets) (3.1.2)\n",
      "Requirement already satisfied: nbconvert>=5 in /Users/lydia/Library/jupyterlab-desktop/jlab_server/lib/python3.8/site-packages (from notebook>=4.4.1->widgetsnbextension~=2.0.0->ipywidgets) (7.0.0)\n",
      "Requirement already satisfied: ipython-genutils in /Users/lydia/Library/jupyterlab-desktop/jlab_server/lib/python3.8/site-packages (from notebook>=4.4.1->widgetsnbextension~=2.0.0->ipywidgets) (0.2.0)\n",
      "Requirement already satisfied: argon2-cffi in /Users/lydia/Library/jupyterlab-desktop/jlab_server/lib/python3.8/site-packages (from notebook>=4.4.1->widgetsnbextension~=2.0.0->ipywidgets) (21.3.0)\n",
      "Requirement already satisfied: Send2Trash>=1.8.0 in /Users/lydia/Library/jupyterlab-desktop/jlab_server/lib/python3.8/site-packages (from notebook>=4.4.1->widgetsnbextension~=2.0.0->ipywidgets) (1.8.0)\n",
      "Requirement already satisfied: ptyprocess>=0.5 in /Users/lydia/Library/jupyterlab-desktop/jlab_server/lib/python3.8/site-packages (from pexpect>4.3->ipython>=4.0.0->ipywidgets) (0.7.0)\n",
      "Requirement already satisfied: wcwidth in /Users/lydia/Library/jupyterlab-desktop/jlab_server/lib/python3.8/site-packages (from prompt-toolkit!=3.0.0,!=3.0.1,<3.1.0,>=2.0.0->ipython>=4.0.0->ipywidgets) (0.2.5)\n",
      "Requirement already satisfied: pyparsing!=3.0.5,>=2.0.2 in /Users/lydia/Library/jupyterlab-desktop/jlab_server/lib/python3.8/site-packages (from packaging->ipykernel>=4.5.1->ipywidgets) (3.0.9)\n",
      "Requirement already satisfied: pure-eval in /Users/lydia/Library/jupyterlab-desktop/jlab_server/lib/python3.8/site-packages (from stack-data->ipython>=4.0.0->ipywidgets) (0.2.2)\n",
      "Requirement already satisfied: executing in /Users/lydia/Library/jupyterlab-desktop/jlab_server/lib/python3.8/site-packages (from stack-data->ipython>=4.0.0->ipywidgets) (1.0.0)\n",
      "Requirement already satisfied: asttokens in /Users/lydia/Library/jupyterlab-desktop/jlab_server/lib/python3.8/site-packages (from stack-data->ipython>=4.0.0->ipywidgets) (2.0.8)\n",
      "Requirement already satisfied: zipp>=3.1.0 in /Users/lydia/Library/jupyterlab-desktop/jlab_server/lib/python3.8/site-packages (from importlib-resources>=1.4.0->jsonschema>=2.6->nbformat>=4.2.0->ipywidgets) (3.8.1)\n",
      "Requirement already satisfied: markupsafe>=2.0 in /Users/lydia/Library/jupyterlab-desktop/jlab_server/lib/python3.8/site-packages (from nbconvert>=5->notebook>=4.4.1->widgetsnbextension~=2.0.0->ipywidgets) (2.1.1)\n",
      "Requirement already satisfied: jupyterlab-pygments in /Users/lydia/Library/jupyterlab-desktop/jlab_server/lib/python3.8/site-packages (from nbconvert>=5->notebook>=4.4.1->widgetsnbextension~=2.0.0->ipywidgets) (0.2.2)\n",
      "Requirement already satisfied: pandocfilters>=1.4.1 in /Users/lydia/Library/jupyterlab-desktop/jlab_server/lib/python3.8/site-packages (from nbconvert>=5->notebook>=4.4.1->widgetsnbextension~=2.0.0->ipywidgets) (1.5.0)\n",
      "Requirement already satisfied: defusedxml in /Users/lydia/Library/jupyterlab-desktop/jlab_server/lib/python3.8/site-packages (from nbconvert>=5->notebook>=4.4.1->widgetsnbextension~=2.0.0->ipywidgets) (0.7.1)\n",
      "Requirement already satisfied: importlib-metadata>=3.6 in /Users/lydia/Library/jupyterlab-desktop/jlab_server/lib/python3.8/site-packages (from nbconvert>=5->notebook>=4.4.1->widgetsnbextension~=2.0.0->ipywidgets) (4.11.4)\n",
      "Requirement already satisfied: lxml in /Users/lydia/Library/jupyterlab-desktop/jlab_server/lib/python3.8/site-packages (from nbconvert>=5->notebook>=4.4.1->widgetsnbextension~=2.0.0->ipywidgets) (4.9.1)\n",
      "Requirement already satisfied: mistune<3,>=2.0.3 in /Users/lydia/Library/jupyterlab-desktop/jlab_server/lib/python3.8/site-packages (from nbconvert>=5->notebook>=4.4.1->widgetsnbextension~=2.0.0->ipywidgets) (2.0.4)\n",
      "Requirement already satisfied: beautifulsoup4 in /Users/lydia/Library/jupyterlab-desktop/jlab_server/lib/python3.8/site-packages (from nbconvert>=5->notebook>=4.4.1->widgetsnbextension~=2.0.0->ipywidgets) (4.11.1)\n",
      "Requirement already satisfied: nbclient>=0.5.0 in /Users/lydia/Library/jupyterlab-desktop/jlab_server/lib/python3.8/site-packages (from nbconvert>=5->notebook>=4.4.1->widgetsnbextension~=2.0.0->ipywidgets) (0.6.7)\n",
      "Requirement already satisfied: bleach in /Users/lydia/Library/jupyterlab-desktop/jlab_server/lib/python3.8/site-packages (from nbconvert>=5->notebook>=4.4.1->widgetsnbextension~=2.0.0->ipywidgets) (5.0.1)\n",
      "Requirement already satisfied: tinycss2 in /Users/lydia/Library/jupyterlab-desktop/jlab_server/lib/python3.8/site-packages (from nbconvert>=5->notebook>=4.4.1->widgetsnbextension~=2.0.0->ipywidgets) (1.1.1)\n",
      "Requirement already satisfied: six>=1.5 in /Users/lydia/Library/jupyterlab-desktop/jlab_server/lib/python3.8/site-packages (from python-dateutil>=2.8.2->jupyter-client>=6.1.12->ipykernel>=4.5.1->ipywidgets) (1.16.0)\n",
      "Requirement already satisfied: argon2-cffi-bindings in /Users/lydia/Library/jupyterlab-desktop/jlab_server/lib/python3.8/site-packages (from argon2-cffi->notebook>=4.4.1->widgetsnbextension~=2.0.0->ipywidgets) (21.2.0)\n",
      "Requirement already satisfied: cffi>=1.0.1 in /Users/lydia/Library/jupyterlab-desktop/jlab_server/lib/python3.8/site-packages (from argon2-cffi-bindings->argon2-cffi->notebook>=4.4.1->widgetsnbextension~=2.0.0->ipywidgets) (1.15.1)\n",
      "Requirement already satisfied: soupsieve>1.2 in /Users/lydia/Library/jupyterlab-desktop/jlab_server/lib/python3.8/site-packages (from beautifulsoup4->nbconvert>=5->notebook>=4.4.1->widgetsnbextension~=2.0.0->ipywidgets) (2.3.2.post1)\n",
      "Requirement already satisfied: webencodings in /Users/lydia/Library/jupyterlab-desktop/jlab_server/lib/python3.8/site-packages (from bleach->nbconvert>=5->notebook>=4.4.1->widgetsnbextension~=2.0.0->ipywidgets) (0.5.1)\n",
      "Requirement already satisfied: pycparser in /Users/lydia/Library/jupyterlab-desktop/jlab_server/lib/python3.8/site-packages (from cffi>=1.0.1->argon2-cffi-bindings->argon2-cffi->notebook>=4.4.1->widgetsnbextension~=2.0.0->ipywidgets) (2.21)\n",
      "Enabling notebook extension jupyter-js-widgets/extension...\n",
      "      - Validating: \u001b[32mOK\u001b[0m\n",
      "An error occurred.\n",
      "ValueError: \n",
      "\"@jupyter-widgets/jupyterlab-manager@0.34.0\" is not compatible with the current JupyterLab\n",
      "Conflicting Dependencies:\n",
      "JupyterLab                        Extension      Package\n",
      ">=3.4.5 <3.5.0                    >=0.15.0 <0.16.0@jupyterlab/application\n",
      ">=5.4.5 <5.5.0                    >=1.0.1 <2.0.0 @jupyterlab/coreutils\n",
      ">=3.4.5 <3.5.0                    >=0.15.0 <0.16.0@jupyterlab/notebook\n",
      ">=3.4.5 <3.5.0                    >=0.15.0 <0.16.0@jupyterlab/rendermime\n",
      ">=3.4.5 <3.5.0                    >=1.0.1 <2.0.0 @jupyterlab/rendermime-interfaces\n",
      ">=6.4.5 <6.5.0                    >=1.0.1 <2.0.0 @jupyterlab/services\n",
      "See the log file for details:  /var/folders/dv/blcyp1vn61j_vcqyrdvbs54h0000gn/T/jupyterlab-debug-shkcj923.log\n"
     ]
    }
   ],
   "source": [
    "#%%capture\n",
    "%pip install opensoundscape==0.7.0 \n",
    "!pip install tqdm\n",
    "!pip install ipywidgets\n",
    "!jupyter nbextension enable --py widgetsnbextension\n",
    "!jupyter labextension install @jupyter-widgets/jupyterlab-manager@0.34\n"
   ]
  },
  {
   "cell_type": "markdown",
   "id": "61993c4e-4b63-4ecf-861d-e89b4a3cfff2",
   "metadata": {},
   "source": [
    "Once the [*] to the left of the cell has become [1] you need to restart your kernel (see below image)"
   ]
  },
  {
   "attachments": {
    "86c1063e-0ff6-4ac7-b565-cbe869c81c84.png": {
     "image/png": "[encoded data removed]"
    }
   },
   "cell_type": "markdown",
   "id": "2ba2cea0-ab61-4498-af41-c1d9f9477c46",
   "metadata": {
    "tags": []
   },
   "source": [
    "![image.png](attachment:86c1063e-0ff6-4ac7-b565-cbe869c81c84.png)"
   ]
  },
  {
   "cell_type": "markdown",
   "id": "229c139f-acaa-4197-b5cf-6473ce39902b",
   "metadata": {},
   "source": [
    "**2) Step 2: Make sure this file (Gunshot classifier start here! .ipynb) is in the same folder as your sound files**\n",
    "\n",
    "You must close JupyterLab and drag the script into the sound folder from your computer Finder window.\n",
    "\n",
    "I would recommend you drag the script into a folder for each SD card and process one SD card at a time. Sound files used must end with .WAV or .wav\n",
    "\n"
   ]
  },
  {
   "cell_type": "markdown",
   "id": "704583d6-5f81-439a-b23e-5ebf512d4d69",
   "metadata": {},
   "source": [
    "**3) Step 3: Select each cell below  and click 'Run' to classify your sound files**\n",
    "\n",
    "Approx classification time for 1 hour of audio (collected at 8Khz) is 25 seconds, although this depends on how many CPUs your computer has."
   ]
  },
  {
   "cell_type": "code",
   "execution_count": 2,
   "id": "b473941b-7523-4b1b-8179-7d650114dd82",
   "metadata": {
    "tags": []
   },
   "outputs": [
    {
     "name": "stderr",
     "output_type": "stream",
     "text": [
      "  % Total    % Received % Xferd  Average Speed   Time    Time     Time  Current\n",
      "                                 Dload  Upload   Total   Spent    Left  Speed\n",
      "100   120    0   120    0     0    319      0 --:--:-- --:--:-- --:--:--   331\n",
      "100   340  100   340    0     0    411      0 --:--:-- --:--:-- --:--:--   411\n",
      "100  2329  100  2329    0     0   1903      0  0:00:01  0:00:01 --:--:--     0\n"
     ]
    },
    {
     "data": {
      "text/plain": [
       "CompletedProcess(args=['curl', 'https://www.dropbox.com/s/cpmh889dyfcbooo/run_model.py?dl=0', '-L', '-o', './run_model.py', '--no-verbose'], returncode=0)"
      ]
     },
     "execution_count": 2,
     "metadata": {},
     "output_type": "execute_result"
    }
   ],
   "source": [
    "## This cell downloads the program - you will have a new file labelled run_model.py appear in your folder.\n",
    "import subprocess\n",
    "url = 'https://www.dropbox.com/s/cpmh889dyfcbooo/run_model.py?dl=0'\n",
    "subprocess.run(['curl', url, '-L', '-o', './run_model.py', '--no-verbose'])"
   ]
  },
  {
   "cell_type": "code",
   "execution_count": 11,
   "id": "1a997090-5700-49e8-acca-da1db97ea545",
   "metadata": {},
   "outputs": [
    {
     "name": "stderr",
     "output_type": "stream",
     "text": [
      "  % Total    % Received % Xferd  Average Speed   Time    Time     Time  Current\n",
      "                                 Dload  Upload   Total   Spent    Left  Speed\n",
      "100   128    0   128    0     0    336      0 --:--:-- --:--:-- --:--:--   347\n",
      "100   340  100   340    0     0    491      0 --:--:-- --:--:-- --:--:--   491\n",
      "100   534    0   534    0     0    315      0 --:--:--  0:00:01 --:--:--   702\n",
      " 44 42.7M   44 18.9M    0     0  5075k      0  0:00:08  0:00:03  0:00:05 14.5M"
     ]
    },
    {
     "name": "stdout",
     "output_type": "stream",
     "text": [
      "Classifying file  1 of 5...\n"
     ]
    },
    {
     "name": "stderr",
     "output_type": "stream",
     "text": [
      "100 42.7M  100 42.7M    0     0  8889k      0  0:00:04  0:00:04 --:--:-- 17.7M\n"
     ]
    },
    {
     "name": "stdout",
     "output_type": "stream",
     "text": [
      "[]\n",
      "Finished classifying file 1 in 1 seconds!\n",
      "\n",
      "Classifying file  2 of 5...\n",
      "[]\n",
      "Finished classifying file 2 in 0 seconds!\n",
      "\n",
      "Classifying file  3 of 5...\n",
      "[]\n",
      "Finished classifying file 3 in 1 seconds!\n",
      "\n",
      "Classifying file  4 of 5...\n",
      "[]\n",
      "Finished classifying file 4 in 0 seconds!\n",
      "\n",
      "Classifying file  5 of 5...\n",
      "[]\n",
      "Finished classifying file 5 in 0 seconds!\n",
      "\n",
      "Finished classifying all files in  0 minutes!\n",
      "\n",
      "\n",
      "You should now be able to inspect your results in the csv file saved to this folder called GUNSHOT_scores.csv.\n",
      "\n",
      "Open the next program, Results_validation to inspect your results. \n"
     ]
    }
   ],
   "source": [
    "## This cells runs the program on the sound files in this folder\n",
    "%run run_model.py"
   ]
  }
 ],
 "metadata": {
  "kernelspec": {
   "display_name": "opso0.7",
   "language": "python",
   "name": "opso0.7"
  },
  "language_info": {
   "codemirror_mode": {
    "name": "ipython",
    "version": 3
   },
   "file_extension": ".py",
   "mimetype": "text/x-python",
   "name": "python",
   "nbconvert_exporter": "python",
   "pygments_lexer": "ipython3",
   "version": "3.7.13"
  },
  "toc-autonumbering": true,
  "toc-showcode": true
 },
 "nbformat": 4,
 "nbformat_minor": 5
}
