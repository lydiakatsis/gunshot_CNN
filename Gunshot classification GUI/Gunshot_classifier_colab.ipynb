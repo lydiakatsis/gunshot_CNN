{
  "nbformat": 4,
  "nbformat_minor": 0,
  "metadata": {
    "colab": {
      "provenance": [],
      "authorship_tag": "ABX9TyNenjClx4qeJwtAxB2KZ0fw",
      "include_colab_link": true
    },
    "kernelspec": {
      "name": "python3",
      "display_name": "Python 3"
    },
    "language_info": {
      "name": "python"
    }
  },
  "cells": [
    {
      "cell_type": "markdown",
      "metadata": {
        "id": "view-in-github",
        "colab_type": "text"
      },
      "source": [
        "<a href=\"https://colab.research.google.com/github/lydiakatsis/tropical_forest_gunshot_classifier/blob/main/Gunshot%20classification%20GUI/Gunshot_classifier_colab.ipynb\" target=\"_parent\"><img src=\"https://colab.research.google.com/assets/colab-badge.svg\" alt=\"Open In Colab\"/></a>"
      ]
    },
    {
      "cell_type": "markdown",
      "source": [
        "# Instructions to run the Gunshot Classifier using Google Colab\n",
        "\n",
        "Full paper found [here](https://doi.org/10.1016/j.ecolind.2022.109128)\n",
        "\n",
        "**Gunshot detection will provide many false positives. Therefore it is a must to verify the results.** You will likely find a  small proportion of your results are true gunshots, but this process will substantially reduce the human effort needed to annotate sound files and extract gunshots.\n",
        "\n",
        "This script will analyse .WAV or .wav files of any length, however files must be stored online. To run the script locally, set up an environment in JupyterLab Desktop as per instructions in GitHub repo."
      ],
      "metadata": {
        "id": "lt3OD_dEo3b7"
      }
    },
    {
      "cell_type": "markdown",
      "source": [
        "# Install files and necessary libraries"
      ],
      "metadata": {
        "id": "1XWMeb4yqFyu"
      }
    },
    {
      "cell_type": "code",
      "execution_count": 1,
      "metadata": {
        "colab": {
          "base_uri": "https://localhost:8080/"
        },
        "id": "jkcsuI63o0wJ",
        "outputId": "20cb5328-17f4-458e-8ece-6683e34dbdc9"
      },
      "outputs": [
        {
          "output_type": "stream",
          "name": "stdout",
          "text": [
            "Cloning into 'tropical_forest_gunshot_classifier'...\n",
            "remote: Enumerating objects: 304, done.\u001b[K\n",
            "remote: Counting objects: 100% (54/54), done.\u001b[K\n",
            "remote: Compressing objects: 100% (33/33), done.\u001b[K\n",
            "remote: Total 304 (delta 39), reused 21 (delta 21), pack-reused 250 (from 1)\u001b[K\n",
            "Receiving objects: 100% (304/304), 199.52 MiB | 14.47 MiB/s, done.\n",
            "Resolving deltas: 100% (168/168), done.\n",
            "Updating files: 100% (22/22), done.\n"
          ]
        }
      ],
      "source": [
        "!git clone https://github.com/lydiakatsis/tropical_forest_gunshot_classifier.git"
      ]
    },
    {
      "cell_type": "code",
      "source": [
        "%%capture\n",
        "!pip show opensoundscape && echo 'opensoundscape installed' || pip install opensoundscape ==0.7.0\n",
        "from opensoundscape.torch.models.cnn import load_model\n",
        "import opensoundscape\n",
        "import os"
      ],
      "metadata": {
        "id": "opHYfRapqASw",
        "outputId": "88e7da59-df49-44fc-ba14-451afbcf1007",
        "colab": {
          "base_uri": "https://localhost:8080/",
          "height": 367
        }
      },
      "execution_count": 2,
      "outputs": [
        {
          "output_type": "error",
          "ename": "ModuleNotFoundError",
          "evalue": "No module named 'opensoundscape.torch'",
          "traceback": [
            "\u001b[0;31m---------------------------------------------------------------------------\u001b[0m",
            "\u001b[0;31mModuleNotFoundError\u001b[0m                       Traceback (most recent call last)",
            "\u001b[0;32m<ipython-input-2-f17df17e8ca3>\u001b[0m in \u001b[0;36m<cell line: 0>\u001b[0;34m()\u001b[0m\n\u001b[1;32m      1\u001b[0m \u001b[0mget_ipython\u001b[0m\u001b[0;34m(\u001b[0m\u001b[0;34m)\u001b[0m\u001b[0;34m.\u001b[0m\u001b[0msystem\u001b[0m\u001b[0;34m(\u001b[0m\u001b[0;34m\"pip show opensoundscape && echo 'opensoundscape installed' || pip install opensoundscape\"\u001b[0m\u001b[0;34m)\u001b[0m\u001b[0;34m\u001b[0m\u001b[0;34m\u001b[0m\u001b[0m\n\u001b[0;32m----> 2\u001b[0;31m \u001b[0;32mfrom\u001b[0m \u001b[0mopensoundscape\u001b[0m\u001b[0;34m.\u001b[0m\u001b[0mtorch\u001b[0m\u001b[0;34m.\u001b[0m\u001b[0mmodels\u001b[0m\u001b[0;34m.\u001b[0m\u001b[0mcnn\u001b[0m \u001b[0;32mimport\u001b[0m \u001b[0mload_model\u001b[0m\u001b[0;34m\u001b[0m\u001b[0;34m\u001b[0m\u001b[0m\n\u001b[0m\u001b[1;32m      3\u001b[0m \u001b[0;32mimport\u001b[0m \u001b[0mopensoundscape\u001b[0m\u001b[0;34m\u001b[0m\u001b[0;34m\u001b[0m\u001b[0m\n\u001b[1;32m      4\u001b[0m \u001b[0;32mimport\u001b[0m \u001b[0mos\u001b[0m\u001b[0;34m\u001b[0m\u001b[0;34m\u001b[0m\u001b[0m\n",
            "\u001b[0;31mModuleNotFoundError\u001b[0m: No module named 'opensoundscape.torch'",
            "",
            "\u001b[0;31m---------------------------------------------------------------------------\u001b[0;32m\nNOTE: If your import is failing due to a missing package, you can\nmanually install dependencies using either !pip or !apt.\n\nTo view examples of installing some common dependencies, click the\n\"Open Examples\" button below.\n\u001b[0;31m---------------------------------------------------------------------------\u001b[0m\n"
          ],
          "errorDetails": {
            "actions": [
              {
                "action": "open_url",
                "actionText": "Open Examples",
                "url": "/notebooks/snippets/importing_libraries.ipynb"
              }
            ]
          }
        }
      ]
    },
    {
      "cell_type": "markdown",
      "source": [
        "# Mount Google Drive (or other online file system)\n",
        "\n",
        "Files must be stored online to use this script within Google Colab. For this example we will classify files that are within the GitHub repo."
      ],
      "metadata": {
        "id": "VBRPi7jZpkN3"
      }
    },
    {
      "cell_type": "code",
      "source": [
        "from google.colab import drive\n",
        "drive.mount('/content/drive')"
      ],
      "metadata": {
        "id": "TSJhVNEppj0O"
      },
      "execution_count": null,
      "outputs": []
    },
    {
      "cell_type": "markdown",
      "source": [
        "# Load model and run classifier"
      ],
      "metadata": {
        "id": "BNVM8X40qVN-"
      }
    },
    {
      "cell_type": "code",
      "source": [
        "model = load_model('/content/tropical_forest_gunshot_classifier/Gunshot classification GUI/best.model')"
      ],
      "metadata": {
        "id": "b8U3HFZFp66A"
      },
      "execution_count": null,
      "outputs": []
    },
    {
      "cell_type": "markdown",
      "source": [
        "# &darr; &darr; &darr; &darr; &darr; &darr; &darr; &darr; &darr; &darr; &darr; &darr; #"
      ],
      "metadata": {
        "id": "946WLTVNW2ek"
      }
    },
    {
      "cell_type": "code",
      "source": [
        "# Set location of audio files\n",
        "audio_file_directory = '/content/tropical_forest_gunshot_classifier/Gunshot classification GUI/'\n",
        "# Set location to save results to\n",
        "output_directory = './'"
      ],
      "metadata": {
        "id": "ty-nGSfksbvb"
      },
      "execution_count": null,
      "outputs": []
    },
    {
      "cell_type": "markdown",
      "source": [
        "# &uarr; &uarr; &uarr; &uarr; &uarr; &uarr; &uarr; &uarr; &uarr; &uarr; &uarr; &uarr; #"
      ],
      "metadata": {
        "id": "oR7wsZrUWytk"
      }
    },
    {
      "cell_type": "code",
      "source": [
        "# Create list of audio files for classification\n",
        "\n",
        "audio_files = []\n",
        "\n",
        "for root, dirnames, filenames in os.walk(audio_file_directory):\n",
        "    for filename in filenames:\n",
        "        if filename.lower().endswith('.wav'):\n",
        "            audio_files.append(os.path.join(root, filename))\n",
        "\n",
        "audio_files"
      ],
      "metadata": {
        "colab": {
          "base_uri": "https://localhost:8080/"
        },
        "id": "mKCYiAWXs9E6",
        "outputId": "ed4f9ec4-250e-4d49-b943-cfada6e77326"
      },
      "execution_count": null,
      "outputs": [
        {
          "output_type": "execute_result",
          "data": {
            "text/plain": [
              "['/content/tropical_forest_gunshot_classifier/Gunshot classification GUI/gunshot_1.WAV',\n",
              " '/content/tropical_forest_gunshot_classifier/Gunshot classification GUI/gunshot_2.WAV',\n",
              " '/content/tropical_forest_gunshot_classifier/Gunshot classification GUI/gunshot_4.WAV',\n",
              " '/content/tropical_forest_gunshot_classifier/Gunshot classification GUI/gunshot_3.WAV',\n",
              " '/content/tropical_forest_gunshot_classifier/Gunshot classification GUI/gunshot_5.WAV']"
            ]
          },
          "metadata": {},
          "execution_count": 17
        }
      ]
    },
    {
      "cell_type": "code",
      "source": [
        "# Generate predictions with the model\n",
        "scores, _, _ = model.predict(audio_files,activation_layer='softmax', batch_size=64, num_workers = 2)\n",
        "\n",
        "# Order scores highest to lowest\n",
        "scores.sort_values(by=['gunshot'], ascending=False, inplace=True)\n",
        "\n",
        "# View top scores\n",
        "scores.head()"
      ],
      "metadata": {
        "colab": {
          "base_uri": "https://localhost:8080/",
          "height": 255
        },
        "id": "rlJPKum2qvhE",
        "outputId": "354f3618-4ee7-41b6-e6da-00a0bdf156e5"
      },
      "execution_count": null,
      "outputs": [
        {
          "output_type": "stream",
          "name": "stdout",
          "text": [
            "[]\n"
          ]
        },
        {
          "output_type": "execute_result",
          "data": {
            "text/plain": [
              "                                                                          background  \\\n",
              "file                                               start_time end_time                 \n",
              "/content/tropical_forest_gunshot_classifier/Gun... 0.0        4.0       2.442254e-08   \n",
              "/content/tropical_forest_gunshot_classifier/Gun... 0.0        4.0       2.032906e-13   \n",
              "/content/tropical_forest_gunshot_classifier/Gun... 0.0        4.0       5.071891e-09   \n",
              "/content/tropical_forest_gunshot_classifier/Gun... 0.0        4.0       1.685703e-04   \n",
              "/content/tropical_forest_gunshot_classifier/Gun... 0.0        4.0       3.832001e-02   \n",
              "\n",
              "                                                                         gunshot  \n",
              "file                                               start_time end_time            \n",
              "/content/tropical_forest_gunshot_classifier/Gun... 0.0        4.0       1.000000  \n",
              "/content/tropical_forest_gunshot_classifier/Gun... 0.0        4.0       1.000000  \n",
              "/content/tropical_forest_gunshot_classifier/Gun... 0.0        4.0       1.000000  \n",
              "/content/tropical_forest_gunshot_classifier/Gun... 0.0        4.0       0.999831  \n",
              "/content/tropical_forest_gunshot_classifier/Gun... 0.0        4.0       0.961680  "
            ],
            "text/html": [
              "\n",
              "  <div id=\"df-ed941c05-22b0-4f3a-976d-71842ccbab9e\">\n",
              "    <div class=\"colab-df-container\">\n",
              "      <div>\n",
              "<style scoped>\n",
              "    .dataframe tbody tr th:only-of-type {\n",
              "        vertical-align: middle;\n",
              "    }\n",
              "\n",
              "    .dataframe tbody tr th {\n",
              "        vertical-align: top;\n",
              "    }\n",
              "\n",
              "    .dataframe thead th {\n",
              "        text-align: right;\n",
              "    }\n",
              "</style>\n",
              "<table border=\"1\" class=\"dataframe\">\n",
              "  <thead>\n",
              "    <tr style=\"text-align: right;\">\n",
              "      <th></th>\n",
              "      <th></th>\n",
              "      <th></th>\n",
              "      <th>background</th>\n",
              "      <th>gunshot</th>\n",
              "    </tr>\n",
              "    <tr>\n",
              "      <th>file</th>\n",
              "      <th>start_time</th>\n",
              "      <th>end_time</th>\n",
              "      <th></th>\n",
              "      <th></th>\n",
              "    </tr>\n",
              "  </thead>\n",
              "  <tbody>\n",
              "    <tr>\n",
              "      <th>/content/tropical_forest_gunshot_classifier/Gunshot classification GUI/gunshot_2.WAV</th>\n",
              "      <th>0.0</th>\n",
              "      <th>4.0</th>\n",
              "      <td>2.442254e-08</td>\n",
              "      <td>1.000000</td>\n",
              "    </tr>\n",
              "    <tr>\n",
              "      <th>/content/tropical_forest_gunshot_classifier/Gunshot classification GUI/gunshot_4.WAV</th>\n",
              "      <th>0.0</th>\n",
              "      <th>4.0</th>\n",
              "      <td>2.032906e-13</td>\n",
              "      <td>1.000000</td>\n",
              "    </tr>\n",
              "    <tr>\n",
              "      <th>/content/tropical_forest_gunshot_classifier/Gunshot classification GUI/gunshot_5.WAV</th>\n",
              "      <th>0.0</th>\n",
              "      <th>4.0</th>\n",
              "      <td>5.071891e-09</td>\n",
              "      <td>1.000000</td>\n",
              "    </tr>\n",
              "    <tr>\n",
              "      <th>/content/tropical_forest_gunshot_classifier/Gunshot classification GUI/gunshot_3.WAV</th>\n",
              "      <th>0.0</th>\n",
              "      <th>4.0</th>\n",
              "      <td>1.685703e-04</td>\n",
              "      <td>0.999831</td>\n",
              "    </tr>\n",
              "    <tr>\n",
              "      <th>/content/tropical_forest_gunshot_classifier/Gunshot classification GUI/gunshot_1.WAV</th>\n",
              "      <th>0.0</th>\n",
              "      <th>4.0</th>\n",
              "      <td>3.832001e-02</td>\n",
              "      <td>0.961680</td>\n",
              "    </tr>\n",
              "  </tbody>\n",
              "</table>\n",
              "</div>\n",
              "      <button class=\"colab-df-convert\" onclick=\"convertToInteractive('df-ed941c05-22b0-4f3a-976d-71842ccbab9e')\"\n",
              "              title=\"Convert this dataframe to an interactive table.\"\n",
              "              style=\"display:none;\">\n",
              "        \n",
              "  <svg xmlns=\"http://www.w3.org/2000/svg\" height=\"24px\"viewBox=\"0 0 24 24\"\n",
              "       width=\"24px\">\n",
              "    <path d=\"M0 0h24v24H0V0z\" fill=\"none\"/>\n",
              "    <path d=\"M18.56 5.44l.94 2.06.94-2.06 2.06-.94-2.06-.94-.94-2.06-.94 2.06-2.06.94zm-11 1L8.5 8.5l.94-2.06 2.06-.94-2.06-.94L8.5 2.5l-.94 2.06-2.06.94zm10 10l.94 2.06.94-2.06 2.06-.94-2.06-.94-.94-2.06-.94 2.06-2.06.94z\"/><path d=\"M17.41 7.96l-1.37-1.37c-.4-.4-.92-.59-1.43-.59-.52 0-1.04.2-1.43.59L10.3 9.45l-7.72 7.72c-.78.78-.78 2.05 0 2.83L4 21.41c.39.39.9.59 1.41.59.51 0 1.02-.2 1.41-.59l7.78-7.78 2.81-2.81c.8-.78.8-2.07 0-2.86zM5.41 20L4 18.59l7.72-7.72 1.47 1.35L5.41 20z\"/>\n",
              "  </svg>\n",
              "      </button>\n",
              "      \n",
              "  <style>\n",
              "    .colab-df-container {\n",
              "      display:flex;\n",
              "      flex-wrap:wrap;\n",
              "      gap: 12px;\n",
              "    }\n",
              "\n",
              "    .colab-df-convert {\n",
              "      background-color: #E8F0FE;\n",
              "      border: none;\n",
              "      border-radius: 50%;\n",
              "      cursor: pointer;\n",
              "      display: none;\n",
              "      fill: #1967D2;\n",
              "      height: 32px;\n",
              "      padding: 0 0 0 0;\n",
              "      width: 32px;\n",
              "    }\n",
              "\n",
              "    .colab-df-convert:hover {\n",
              "      background-color: #E2EBFA;\n",
              "      box-shadow: 0px 1px 2px rgba(60, 64, 67, 0.3), 0px 1px 3px 1px rgba(60, 64, 67, 0.15);\n",
              "      fill: #174EA6;\n",
              "    }\n",
              "\n",
              "    [theme=dark] .colab-df-convert {\n",
              "      background-color: #3B4455;\n",
              "      fill: #D2E3FC;\n",
              "    }\n",
              "\n",
              "    [theme=dark] .colab-df-convert:hover {\n",
              "      background-color: #434B5C;\n",
              "      box-shadow: 0px 1px 3px 1px rgba(0, 0, 0, 0.15);\n",
              "      filter: drop-shadow(0px 1px 2px rgba(0, 0, 0, 0.3));\n",
              "      fill: #FFFFFF;\n",
              "    }\n",
              "  </style>\n",
              "\n",
              "      <script>\n",
              "        const buttonEl =\n",
              "          document.querySelector('#df-ed941c05-22b0-4f3a-976d-71842ccbab9e button.colab-df-convert');\n",
              "        buttonEl.style.display =\n",
              "          google.colab.kernel.accessAllowed ? 'block' : 'none';\n",
              "\n",
              "        async function convertToInteractive(key) {\n",
              "          const element = document.querySelector('#df-ed941c05-22b0-4f3a-976d-71842ccbab9e');\n",
              "          const dataTable =\n",
              "            await google.colab.kernel.invokeFunction('convertToInteractive',\n",
              "                                                     [key], {});\n",
              "          if (!dataTable) return;\n",
              "\n",
              "          const docLinkHtml = 'Like what you see? Visit the ' +\n",
              "            '<a target=\"_blank\" href=https://colab.research.google.com/notebooks/data_table.ipynb>data table notebook</a>'\n",
              "            + ' to learn more about interactive tables.';\n",
              "          element.innerHTML = '';\n",
              "          dataTable['output_type'] = 'display_data';\n",
              "          await google.colab.output.renderOutput(dataTable, element);\n",
              "          const docLink = document.createElement('div');\n",
              "          docLink.innerHTML = docLinkHtml;\n",
              "          element.appendChild(docLink);\n",
              "        }\n",
              "      </script>\n",
              "    </div>\n",
              "  </div>\n",
              "  "
            ]
          },
          "metadata": {},
          "execution_count": 27
        }
      ]
    },
    {
      "cell_type": "code",
      "source": [
        "# Save predictions csv to chosen location\n",
        "scores.to_csv(output_directory + 'gunshot_scores.csv')"
      ],
      "metadata": {
        "id": "L2Phx3V7sXGh"
      },
      "execution_count": null,
      "outputs": []
    }
  ]
}