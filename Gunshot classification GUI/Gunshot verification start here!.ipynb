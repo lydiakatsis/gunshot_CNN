{
 "cells": [
  {
   "cell_type": "markdown",
   "id": "086f32c5-ad39-46e4-be00-52cb39287329",
   "metadata": {},
   "source": [
    "\n",
    "## Welcome to the gunshot verification program! ##"
   ]
  },
  {
   "cell_type": "markdown",
   "id": "2c62dd91-20be-43ed-aca0-194f06cdf56d",
   "metadata": {},
   "source": [
    "This script provides some user friendly functions to inspect the results of the Gunshot classification program.\n",
    "The original version of this script was created by the Kitzes lab, and is found [here](https://github.com/kitzeslab/bioacoustics-cookbook/blob/main/top-down-listening.ipynb)\n",
    "\n",
    "In summary: it will inspect the csv of classification scores produced by the Gunshot Classification program, and it will show the spectrogram and play the sound of the files, starting from the highest classification score. As you listen to the files, you can input a numerical annotation (system is up to you, but I typically use 0 for absent, 1 for unsure, and 2 for present). The annotations will be saved to a csv in this folder.\n",
    "\n",
    "Once you have reached a threhsold score, the program will end and the csv will be saved.\n"
   ]
  },
  {
   "cell_type": "markdown",
   "id": "d8c4ec00-f3fe-48e7-96fd-ed0a9bda1c29",
   "metadata": {},
   "source": [
    "\n",
    "## Instructions\n",
    "\n",
    "**Step 1: Only do this the first time you ever open this file!** \n",
    "\n",
    "Click on the box below and type **Command + Enter**. *(This step installs some packages needed to run the program, it also relies upon you having run the classification program which also downloads required programs)*"
   ]
  },
  {
   "cell_type": "code",
   "execution_count": 6,
   "id": "ff0b8fb2-e116-4e65-bc6b-cff3625760c5",
   "metadata": {},
   "outputs": [],
   "source": [
    "%%capture\n",
    "%pip install sounddevice"
   ]
  },
  {
   "cell_type": "markdown",
   "id": "bff2b8bf-2ee7-4632-aece-d9913fc3b3b1",
   "metadata": {},
   "source": [
    "**Step 2: Drag this file (Gunshot verification start here! .ipynb) and put it in the same folder as the sound files that you classified**"
   ]
  },
  {
   "cell_type": "markdown",
   "id": "d9c05235-e3b7-4384-9928-19f595bf8e43",
   "metadata": {},
   "source": [
    "**Step 3: Press Command + Enter on the cell below to download the program**"
   ]
  },
  {
   "cell_type": "code",
   "execution_count": 44,
   "id": "2995976e-9c9d-4eed-bba8-d6fb2a289d0c",
   "metadata": {},
   "outputs": [
    {
     "name": "stderr",
     "output_type": "stream",
     "text": [
      "  % Total    % Received % Xferd  Average Speed   Time    Time     Time  Current\n",
      "                                 Dload  Upload   Total   Spent    Left  Speed\n",
      "100   148    0   148    0     0    407      0 --:--:-- --:--:-- --:--:--   418\n",
      "100   340  100   340    0     0    454      0 --:--:-- --:--:-- --:--:--   454\n",
      "100  6621  100  6621    0     0   6466      0  0:00:01  0:00:01 --:--:-- 39177\n"
     ]
    }
   ],
   "source": [
    "## This cell downloads the program - you will have a new file labelled run_model.py appear in your folder.\n",
    "import subprocess\n",
    "url = 'https://www.dropbox.com/s/hqpjg5ntdogbq7c/Gunshot_verification.py?dl=0'\n",
    "subprocess.run(['curl', url, '-L', '-o', './Gunshot_verification.py', '--no-verbose'])\n",
    "\n",
    "%run Gunshot_verification.py"
   ]
  },
  {
   "cell_type": "markdown",
   "id": "c34e896b-fbb6-44fb-b468-435e40608b98",
   "metadata": {},
   "source": [
    "**Step 4: Press Command + Enter on the cell below and the validation process will start**\n",
    "\n",
    "Follow instructions that pop up below to listen to the sound, view the spectrogram, and annotate with presence or absence."
   ]
  },
  {
   "cell_type": "code",
   "execution_count": 48,
   "id": "56c24ef3-fcce-44a7-812d-14bc9cef5b4f",
   "metadata": {},
   "outputs": [
    {
     "name": "stdout",
     "output_type": "stream",
     "text": [
      "saving annotations and exiting\n"
     ]
    },
    {
     "name": "stderr",
     "output_type": "stream",
     "text": [
      "/Users/lydia/Documents/Chapter_1_gunshot_CNN/Gunshot_classification_GUI/Gunshot_verification.py:73: ResourceWarning: unclosed file <_io.TextIOWrapper name='GUNSHOT_scores.csv' mode='r' encoding='utf-8'>\n",
      "  raise ValueError(\"User terminated annotation with 'x'\")\n",
      "ResourceWarning: Enable tracemalloc to get the object allocation traceback\n"
     ]
    },
    {
     "ename": "ValueError",
     "evalue": "User terminated annotation with 'x'",
     "output_type": "error",
     "traceback": [
      "\u001b[0;31m---------------------------------------------------------------------------\u001b[0m",
      "\u001b[0;31mValueError\u001b[0m                                Traceback (most recent call last)",
      "\u001b[0;32m/var/folders/dv/blcyp1vn61j_vcqyrdvbs54h0000gn/T/ipykernel_90251/313464407.py\u001b[0m in \u001b[0;36m<module>\u001b[0;34m\u001b[0m\n\u001b[1;32m      2\u001b[0m \u001b[0mget_ipython\u001b[0m\u001b[0;34m(\u001b[0m\u001b[0;34m)\u001b[0m\u001b[0;34m.\u001b[0m\u001b[0mrun_line_magic\u001b[0m\u001b[0;34m(\u001b[0m\u001b[0;34m'config'\u001b[0m\u001b[0;34m,\u001b[0m \u001b[0;34m\"InlineBackend.figure_format = 'retina'\"\u001b[0m\u001b[0;34m)\u001b[0m\u001b[0;34m\u001b[0m\u001b[0;34m\u001b[0m\u001b[0m\n\u001b[1;32m      3\u001b[0m \u001b[0;34m\u001b[0m\u001b[0m\n\u001b[0;32m----> 4\u001b[0;31m \u001b[0mannotate_above_threshold_file_exists\u001b[0m\u001b[0;34m(\u001b[0m\u001b[0mscore_threshold\u001b[0m \u001b[0;34m=\u001b[0m \u001b[0;36m0.7\u001b[0m\u001b[0;34m)\u001b[0m\u001b[0;34m\u001b[0m\u001b[0;34m\u001b[0m\u001b[0m\n\u001b[0m",
      "\u001b[0;32m~/Documents/Chapter_1_gunshot_CNN/Gunshot_classification_GUI/Gunshot_verification.py\u001b[0m in \u001b[0;36mannotate_above_threshold_file_exists\u001b[0;34m(score_threshold, score)\u001b[0m\n\u001b[1;32m     71\u001b[0m \u001b[0;34m\u001b[0m\u001b[0m\n\u001b[1;32m     72\u001b[0m                         \u001b[0;31m# score_table.to_csv(annotation_file)\u001b[0m\u001b[0;34m\u001b[0m\u001b[0;34m\u001b[0m\u001b[0;34m\u001b[0m\u001b[0m\n\u001b[0;32m---> 73\u001b[0;31m                         \u001b[0;32mraise\u001b[0m \u001b[0mValueError\u001b[0m\u001b[0;34m(\u001b[0m\u001b[0;34m\"User terminated annotation with 'x'\"\u001b[0m\u001b[0;34m)\u001b[0m\u001b[0;34m\u001b[0m\u001b[0;34m\u001b[0m\u001b[0m\n\u001b[0m\u001b[1;32m     74\u001b[0m \u001b[0;34m\u001b[0m\u001b[0m\n\u001b[1;32m     75\u001b[0m                     \u001b[0;32melif\u001b[0m \u001b[0muser_input\u001b[0m\u001b[0;34m.\u001b[0m\u001b[0misnumeric\u001b[0m\u001b[0;34m(\u001b[0m\u001b[0;34m)\u001b[0m\u001b[0;34m:\u001b[0m\u001b[0;34m\u001b[0m\u001b[0;34m\u001b[0m\u001b[0m\n",
      "\u001b[0;31mValueError\u001b[0m: User terminated annotation with 'x'"
     ]
    }
   ],
   "source": [
    "plt.rcParams['figure.figsize']=[15,5] #for big visuals\n",
    "%config InlineBackend.figure_format = 'retina'\n",
    "\n",
    "annotate_above_threshold_file_exists(score_threshold = 0.7)"
   ]
  },
  {
   "cell_type": "code",
   "execution_count": null,
   "id": "a7e7d3ad-36d7-41a9-bf05-5a7e7b4ce814",
   "metadata": {},
   "outputs": [],
   "source": []
  },
  {
   "cell_type": "code",
   "execution_count": null,
   "id": "f6f0d09d-ce8f-4224-bae7-6116e76ea292",
   "metadata": {},
   "outputs": [],
   "source": []
  }
 ],
 "metadata": {
  "kernelspec": {
   "display_name": "opso0.7",
   "language": "python",
   "name": "opso0.7"
  },
  "language_info": {
   "codemirror_mode": {
    "name": "ipython",
    "version": 3
   },
   "file_extension": ".py",
   "mimetype": "text/x-python",
   "name": "python",
   "nbconvert_exporter": "python",
   "pygments_lexer": "ipython3",
   "version": "3.7.13"
  }
 },
 "nbformat": 4,
 "nbformat_minor": 5
}
